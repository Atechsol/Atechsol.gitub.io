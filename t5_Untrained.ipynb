{
  "nbformat": 4,
  "nbformat_minor": 0,
  "metadata": {
    "colab": {
      "provenance": [],
      "authorship_tag": "ABX9TyN6A/EFnSgGdZBblq5g/b/L",
      "include_colab_link": true
    },
    "kernelspec": {
      "name": "python3",
      "display_name": "Python 3"
    },
    "language_info": {
      "name": "python"
    }
  },
  "cells": [
    {
      "cell_type": "markdown",
      "metadata": {
        "id": "view-in-github",
        "colab_type": "text"
      },
      "source": [
        "<a href=\"https://colab.research.google.com/github/Atechsol/Atechsol.gitub.io/blob/main/t5_Untrained.ipynb\" target=\"_parent\"><img src=\"https://colab.research.google.com/assets/colab-badge.svg\" alt=\"Open In Colab\"/></a>"
      ]
    },
    {
      "cell_type": "code",
      "execution_count": 9,
      "metadata": {
        "colab": {
          "base_uri": "https://localhost:8080/"
        },
        "id": "vc4gK0CyQQ06",
        "outputId": "4abd01a3-71c4-4fcd-9e5b-45ec563d2789"
      },
      "outputs": [
        {
          "output_type": "stream",
          "name": "stderr",
          "text": [
            "Special tokens have been added in the vocabulary, make sure the associated word embeddings are fine-tuned or trained.\n"
          ]
        },
        {
          "output_type": "stream",
          "name": "stdout",
          "text": [
            "Generated Text: </s></s>\n"
          ]
        },
        {
          "output_type": "stream",
          "name": "stderr",
          "text": [
            "/usr/local/lib/python3.10/dist-packages/transformers/models/t5/tokenization_t5.py:289: UserWarning: This sequence already has </s>. In future versions this behavior may lead to duplicated eos tokens being added.\n",
            "  warnings.warn(\n"
          ]
        }
      ],
      "source": [
        "from transformers import T5Tokenizer, T5ForConditionalGeneration\n",
        "import tensorflow\n",
        "# Load tokenizer and model (change to T5ForConditionalGeneration)\n",
        "tokenizer = T5Tokenizer.from_pretrained(\"t5-small\")\n",
        "model = T5ForConditionalGeneration.from_pretrained(\"t5-small\")\n",
        "\n",
        "# Define your input text\n",
        "input_text = \"Hi What is going on\"\n",
        "\n",
        "# Encode the input text\n",
        "input_ids = tokenizer(input_text, return_tensors=\"pt\")[\"input_ids\"]  # Access input_ids from the dictionary\n",
        "\n",
        "\n",
        "# Define decoder start token (usually \"</s>\")\n",
        "decoder_start_token_id = tokenizer.encode(\"</s>\", return_tensors=\"pt\")[0]\n",
        "\n",
        "# Generate text with parameters (adjust as needed)\n",
        "generated_ids = model.generate(\n",
        "    input_ids=input_ids,\n",
        "    decoder_start_token_id=decoder_start_token_id,\n",
        "    max_length=50,  # Maximum output length\n",
        "    num_beams=2,  # Number of beams for beam search\n",
        "    no_repeat_ngram_size=2,  # Prevent repetition of n-grams\n",
        ")\n",
        "\n",
        "# Decode the generated tokens back to text\n",
        "output_text = tokenizer.decode(generated_ids[0], skip_special_tokens=True)\n",
        "\n",
        "# Print the generated text\n",
        "print(f\"Generated Text: {output_text}\")\n"
      ]
    }
  ]
}